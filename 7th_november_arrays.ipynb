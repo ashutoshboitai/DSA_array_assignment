{
 "cells": [
  {
   "cell_type": "code",
   "execution_count": 1,
   "id": "e7aee729-bee2-444f-aea9-e6b88ab25ab2",
   "metadata": {},
   "outputs": [
    {
     "name": "stdout",
     "output_type": "stream",
     "text": [
      "True\n"
     ]
    }
   ],
   "source": [
    "#Given an array, check if it contains any duplicates or not.\n",
    "\n",
    "def contains_duplicates(arr):\n",
    "    seen_elements = set()\n",
    "    \n",
    "    for element in arr:\n",
    "        if element in seen_elements:\n",
    "            return True\n",
    "        seen_elements.add(element)\n",
    "    \n",
    "    return False\n",
    "arr = [1, 2, 4, 2, 5, 9]\n",
    "print(contains_duplicates(arr))"
   ]
  },
  {
   "cell_type": "code",
   "execution_count": 2,
   "id": "c97c194c-ed33-424a-8fc8-568fbc6a3f8c",
   "metadata": {},
   "outputs": [
    {
     "name": "stdout",
     "output_type": "stream",
     "text": [
      "[5, 6, 7, 1, 2, 3, 4]\n"
     ]
    }
   ],
   "source": [
    "#2. Given an array and an integer k, rotate the array to the right by k steps.\n",
    "def rotate_array(nums, k):\n",
    "    if not nums or k == 0:\n",
    "        return nums\n",
    "\n",
    "    k = k % len(nums)\n",
    "    rotated = nums[-k:] + nums[:-k]\n",
    "    return rotated\n",
    "arr = [1, 2, 3, 4, 5, 6, 7] \n",
    "k = 3\n",
    "print(rotate_array(arr,k))"
   ]
  },
  {
   "cell_type": "code",
   "execution_count": 3,
   "id": "34ceba20-3410-4592-a83d-d8f30c8e8cc8",
   "metadata": {},
   "outputs": [
    {
     "name": "stdout",
     "output_type": "stream",
     "text": [
      "[12, 9, 7, 5, 4, 2]\n"
     ]
    }
   ],
   "source": [
    "#3. Reverse the given array in-place, means without using any extra data structure.\n",
    "def reverse_array(nums):\n",
    "    start = 0\n",
    "    end = len(nums) - 1\n",
    "\n",
    "    while start < end:\n",
    "        nums[start], nums[end] = nums[end], nums[start]\n",
    "        start += 1\n",
    "        end -= 1\n",
    "\n",
    "    return nums\n",
    "print(reverse_array([2, 4, 5, 7, 9, 12]))"
   ]
  },
  {
   "cell_type": "code",
   "execution_count": 5,
   "id": "66bb46d4-b639-45a3-bf1c-2d9b99cd8d46",
   "metadata": {},
   "outputs": [
    {
     "name": "stdout",
     "output_type": "stream",
     "text": [
      "20\n"
     ]
    }
   ],
   "source": [
    "#4. Given an array of integers, find the maximum element in an array\n",
    "def find_max_element(nums):\n",
    "    max_element = nums[0]\n",
    "\n",
    "    for num in nums[1:]:\n",
    "        if num > max_element:\n",
    "            max_element = num\n",
    "\n",
    "    return max_element\n",
    "print(find_max_element([10, 5, 20, 8, 15]))"
   ]
  },
  {
   "cell_type": "code",
   "execution_count": 7,
   "id": "e99de4f3-c1b2-4663-810d-8a4eac768812",
   "metadata": {},
   "outputs": [
    {
     "name": "stdout",
     "output_type": "stream",
     "text": [
      "[1, 2, 3, 4, 5]\n"
     ]
    }
   ],
   "source": [
    "#5. Given a sorted array, remove the duplicate element without using any extra data structure.\n",
    "def remove_duplicates(nums):\n",
    "    if len(nums) == 0:\n",
    "        return 0\n",
    "\n",
    "    unique_index = 0\n",
    "\n",
    "    for i in range(1, len(nums)):\n",
    "        if nums[i] != nums[unique_index]:\n",
    "            unique_index += 1\n",
    "            nums[unique_index] = nums[i]\n",
    "\n",
    "    return nums[:unique_index + 1]\n",
    "arr = [1, 1, 2, 2, 2, 3, 3, 4, 4, 4, 5, 5]\n",
    "print(remove_duplicates(arr))"
   ]
  },
  {
   "cell_type": "code",
   "execution_count": null,
   "id": "2da0302b-4fb0-4bfd-8c56-8d10f1e926bc",
   "metadata": {},
   "outputs": [],
   "source": []
  }
 ],
 "metadata": {
  "kernelspec": {
   "display_name": "Python 3 (ipykernel)",
   "language": "python",
   "name": "python3"
  },
  "language_info": {
   "codemirror_mode": {
    "name": "ipython",
    "version": 3
   },
   "file_extension": ".py",
   "mimetype": "text/x-python",
   "name": "python",
   "nbconvert_exporter": "python",
   "pygments_lexer": "ipython3",
   "version": "3.10.8"
  }
 },
 "nbformat": 4,
 "nbformat_minor": 5
}
